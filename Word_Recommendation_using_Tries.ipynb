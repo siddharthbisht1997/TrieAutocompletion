{
  "nbformat": 4,
  "nbformat_minor": 0,
  "metadata": {
    "colab": {
      "name": "Word Recommendation using Tries.ipynb",
      "provenance": [],
      "collapsed_sections": [],
      "authorship_tag": "ABX9TyOQhMKrGkB5TW82d4xdskKv",
      "include_colab_link": true
    },
    "kernelspec": {
      "name": "python3",
      "display_name": "Python 3"
    }
  },
  "cells": [
    {
      "cell_type": "markdown",
      "metadata": {
        "id": "view-in-github",
        "colab_type": "text"
      },
      "source": [
        "<a href=\"https://colab.research.google.com/github/siddharthbisht1997/Word-Recommendation-using-tries/blob/master/Word_Recommendation_using_Tries.ipynb\" target=\"_parent\"><img src=\"https://colab.research.google.com/assets/colab-badge.svg\" alt=\"Open In Colab\"/></a>"
      ]
    },
    {
      "cell_type": "code",
      "metadata": {
        "id": "jUuFhU4AU7TD",
        "colab_type": "code",
        "colab": {}
      },
      "source": [
        "from collections import defaultdict"
      ],
      "execution_count": 1,
      "outputs": []
    },
    {
      "cell_type": "code",
      "metadata": {
        "id": "ZuvsBY-oROMc",
        "colab_type": "code",
        "colab": {}
      },
      "source": [
        "class node():\n",
        "\n",
        "  def __init__(self):\n",
        "    self.children = defaultdict(None)\n",
        "    self.is_leaf : bool = False"
      ],
      "execution_count": 2,
      "outputs": []
    },
    {
      "cell_type": "code",
      "metadata": {
        "id": "_PumuvszRngW",
        "colab_type": "code",
        "colab": {}
      },
      "source": [
        "class trie():\n",
        "\n",
        "  def __init__(self):\n",
        "    self.root = node()\n",
        "  \n",
        "  def build(self,dictionary:list):\n",
        "    for item in dictionary:\n",
        "      self.insert(item)\n",
        "  \n",
        "  def insert(self,word:str):\n",
        "    ptr = self.root\n",
        "    for letter in word:\n",
        "      if letter not in ptr.children:\n",
        "        ptr.children[letter] = node()\n",
        "        ptr = ptr.children[letter]\n",
        "      elif letter in ptr.children:\n",
        "        ptr = ptr.children[letter]\n",
        "    ptr.children[word] = node()\n",
        "    ptr.is_leaf = True\n",
        "    ptr = ptr.children[word]\n",
        "    \n",
        "\n",
        "  def search(self,word):\n",
        "    ptr = self.root\n",
        "    for letter in word:\n",
        "      if letter in ptr.children:\n",
        "        ptr = ptr.children[letter]\n",
        "      else:\n",
        "        return word + \" Not Found\"\n",
        "    if ptr.is_leaf == True:\n",
        "      return word + \" Found\"\n",
        "    else:\n",
        "      return word + \" Not Found\"\n",
        " \n",
        "  def get_recommendations(self,node):\n",
        "    for child in node.children:\n",
        "      if not node.is_leaf:\n",
        "        self.get_recommendations(node.children[child])\n",
        "      else:\n",
        "        print(child)\n",
        "\n",
        "\n",
        "  def recommend(self,word):\n",
        "    key = ''\n",
        "    ptr = self.root\n",
        "    for letter in word:\n",
        "      if letter in ptr.children:\n",
        "        key += letter\n",
        "        ptr = ptr.children[letter]\n",
        "      \n",
        "      else:\n",
        "        break\n",
        "    \n",
        "    self.get_recommendations(ptr)\n",
        "\n",
        "  def print_dictionary(self,root):\n",
        "    for child in root.children:\n",
        "      if not root.is_leaf:\n",
        "        self.print_dictionary(root.children[child])\n",
        "      else:\n",
        "        print(child)"
      ],
      "execution_count": 7,
      "outputs": []
    },
    {
      "cell_type": "code",
      "metadata": {
        "id": "RsM4R9aJTZrf",
        "colab_type": "code",
        "colab": {
          "base_uri": "https://localhost:8080/",
          "height": 87
        },
        "outputId": "ec5380b6-1097-4642-ee5f-5b6b4262071a"
      },
      "source": [
        "r = trie()\n",
        "\n",
        "words = [\"hello\",\"how\",\"are\",'armadiloo']\n",
        "\n",
        "r.build(words)\n",
        "r.print_dictionary(r.root)"
      ],
      "execution_count": 8,
      "outputs": [
        {
          "output_type": "stream",
          "text": [
            "hello\n",
            "how\n",
            "are\n",
            "armadiloo\n"
          ],
          "name": "stdout"
        }
      ]
    },
    {
      "cell_type": "code",
      "metadata": {
        "id": "FUa8A9KnVv-I",
        "colab_type": "code",
        "colab": {
          "base_uri": "https://localhost:8080/",
          "height": 35
        },
        "outputId": "c5d976ee-f6ff-4200-ead5-8af1af47ad6e"
      },
      "source": [
        "r.search(\"hello\")"
      ],
      "execution_count": 9,
      "outputs": [
        {
          "output_type": "execute_result",
          "data": {
            "application/vnd.google.colaboratory.intrinsic": {
              "type": "string"
            },
            "text/plain": [
              "'hello Found'"
            ]
          },
          "metadata": {
            "tags": []
          },
          "execution_count": 9
        }
      ]
    },
    {
      "cell_type": "code",
      "metadata": {
        "id": "ZR8HPJvlRv2P",
        "colab_type": "code",
        "colab": {
          "base_uri": "https://localhost:8080/",
          "height": 35
        },
        "outputId": "a8859f9f-787a-43d2-af82-5485c8a4820e"
      },
      "source": [
        "r.recommend(\"arm\")"
      ],
      "execution_count": 12,
      "outputs": [
        {
          "output_type": "stream",
          "text": [
            "armadiloo\n"
          ],
          "name": "stdout"
        }
      ]
    },
    {
      "cell_type": "code",
      "metadata": {
        "id": "FjdtS6RjRyZ0",
        "colab_type": "code",
        "colab": {}
      },
      "source": [
        ""
      ],
      "execution_count": null,
      "outputs": []
    }
  ]
}