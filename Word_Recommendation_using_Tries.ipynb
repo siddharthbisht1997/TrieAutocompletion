{
  "nbformat": 4,
  "nbformat_minor": 0,
  "metadata": {
    "colab": {
      "name": "Word Recommendation using Tries.ipynb",
      "provenance": [],
      "collapsed_sections": [],
      "authorship_tag": "ABX9TyO1jlNA6Jl4Y100oKY91QUV",
      "include_colab_link": true
    },
    "kernelspec": {
      "name": "python3",
      "display_name": "Python 3"
    }
  },
  "cells": [
    {
      "cell_type": "markdown",
      "metadata": {
        "id": "view-in-github",
        "colab_type": "text"
      },
      "source": [
        "<a href=\"https://colab.research.google.com/github/siddharthbisht1997/Word-Recommendation-using-tries/blob/master/Word_Recommendation_using_Tries.ipynb\" target=\"_parent\"><img src=\"https://colab.research.google.com/assets/colab-badge.svg\" alt=\"Open In Colab\"/></a>"
      ]
    },
    {
      "cell_type": "code",
      "metadata": {
        "id": "jUuFhU4AU7TD",
        "colab_type": "code",
        "colab": {}
      },
      "source": [
        "from collections import defaultdict"
      ],
      "execution_count": 141,
      "outputs": []
    },
    {
      "cell_type": "code",
      "metadata": {
        "id": "ZuvsBY-oROMc",
        "colab_type": "code",
        "colab": {}
      },
      "source": [
        "class node():\n",
        "\n",
        "  def __init__(self):\n",
        "    self.children = {}\n",
        "    self.is_leaf : bool = False"
      ],
      "execution_count": 142,
      "outputs": []
    },
    {
      "cell_type": "code",
      "metadata": {
        "id": "_PumuvszRngW",
        "colab_type": "code",
        "colab": {}
      },
      "source": [
        "class trie():\n",
        "\n",
        "  def __init__(self):\n",
        "    self.root = node()\n",
        "  \n",
        "  def build(self,dictionary:list):\n",
        "    for item in dictionary:\n",
        "      self.insert(item)\n",
        "  \n",
        "  def insert(self,word:str):\n",
        "    word = word.lower()\n",
        "    ptr = self.root\n",
        "    for letter in word:\n",
        "      if letter not in ptr.children:\n",
        "        ptr.children[letter] = node()\n",
        "      ptr = ptr.children[letter]\n",
        "    \n",
        "    ptr.children[word] = node()\n",
        "    ptr = ptr.children[word]\n",
        "    ptr.is_leaf = True\n",
        "    \n",
        "\n",
        "  def search(self,word):\n",
        "    ptr = self.root\n",
        "    word = word.lower()\n",
        "    for letter in word:\n",
        "      if letter not in ptr.children:\n",
        "        return word + \" not found\"\n",
        "      ptr = ptr.children[letter]  \n",
        "    if word in ptr.children:\n",
        "      return word + \" found\"\n",
        "    return word + \" not found\"\n",
        " \n",
        "  def get_recommendations(self,root):\n",
        "    for child in root.children.keys():\n",
        "      if root.children[child].is_leaf == True:\n",
        "        print(child)\n",
        "      else:\n",
        "        self.show(root.children[child])\n",
        "\n",
        "\n",
        "  def recommend(self,word):\n",
        "    word = word.lower()\n",
        "    key = ''\n",
        "    ptr = self.root\n",
        "    for letter in word:\n",
        "      if letter in ptr.children:\n",
        "        key += letter\n",
        "        ptr = ptr.children[letter]\n",
        "      \n",
        "      else:\n",
        "        break\n",
        "    \n",
        "    self.get_recommendations(ptr)\n",
        "\n",
        "  def show(self,root):\n",
        "    for child in root.children.keys():\n",
        "      if root.children[child].is_leaf == True:\n",
        "        print(child)\n",
        "      else:\n",
        "        self.show(root.children[child])\n",
        "    "
      ],
      "execution_count": 197,
      "outputs": []
    },
    {
      "cell_type": "code",
      "metadata": {
        "id": "1NLksvelZhhx",
        "colab_type": "code",
        "colab": {}
      },
      "source": [
        "r = trie()\n",
        "\n",
        "with open(\"vocabulary.txt\",\"r\") as f:\n",
        "  words = f.read().split(\"\\n\")\n",
        "\n",
        "r.build(words)\n",
        "r.show(r.root)"
      ],
      "execution_count": null,
      "outputs": []
    },
    {
      "cell_type": "code",
      "metadata": {
        "id": "M4Zzzn2JjfHu",
        "colab_type": "code",
        "colab": {
          "base_uri": "https://localhost:8080/",
          "height": 35
        },
        "outputId": "64f946f7-06bf-45b7-8897-5c0e8057f2c3"
      },
      "source": [
        "r.search(\"alp\")"
      ],
      "execution_count": 207,
      "outputs": [
        {
          "output_type": "execute_result",
          "data": {
            "application/vnd.google.colaboratory.intrinsic": {
              "type": "string"
            },
            "text/plain": [
              "'alp not found'"
            ]
          },
          "metadata": {
            "tags": []
          },
          "execution_count": 207
        }
      ]
    },
    {
      "cell_type": "code",
      "metadata": {
        "id": "YISndj54mWyW",
        "colab_type": "code",
        "colab": {
          "base_uri": "https://localhost:8080/",
          "height": 69
        },
        "outputId": "6426e60f-c456-47e9-eee1-95098384410d"
      },
      "source": [
        "r.recommend(\"am\")"
      ],
      "execution_count": 209,
      "outputs": [
        {
          "output_type": "stream",
          "text": [
            "american\n",
            "among\n",
            "amount\n"
          ],
          "name": "stdout"
        }
      ]
    },
    {
      "cell_type": "code",
      "metadata": {
        "id": "GXxKnTc2pogO",
        "colab_type": "code",
        "colab": {}
      },
      "source": [
        ""
      ],
      "execution_count": null,
      "outputs": []
    }
  ]
}