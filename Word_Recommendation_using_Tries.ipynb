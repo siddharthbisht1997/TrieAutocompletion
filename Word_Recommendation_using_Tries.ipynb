{
  "nbformat": 4,
  "nbformat_minor": 0,
  "metadata": {
    "colab": {
      "name": "Word Recommendation using Tries.ipynb",
      "provenance": [],
      "collapsed_sections": [],
      "authorship_tag": "ABX9TyOgKtVUTCywp1reQiv3iuam"
    },
    "kernelspec": {
      "name": "python3",
      "display_name": "Python 3"
    }
  },
  "cells": [
    {
      "cell_type": "code",
      "metadata": {
        "id": "O2l-ln4JtDXO",
        "colab_type": "code",
        "colab": {}
      },
      "source": [
        "# Import the Trie Recommender\n",
        "from Trie.TrieRecommender import TrieRecommender"
      ],
      "execution_count": 1,
      "outputs": []
    },
    {
      "cell_type": "code",
      "metadata": {
        "id": "1PP6TrxOtHbk",
        "colab_type": "code",
        "colab": {}
      },
      "source": [
        "# Create the Object of the Trie Recommender\n",
        "Recommender = TrieRecommender()"
      ],
      "execution_count": 2,
      "outputs": []
    },
    {
      "cell_type": "code",
      "metadata": {
        "id": "-YkbJKUXtiVY",
        "colab_type": "code",
        "colab": {}
      },
      "source": [
        "# Get the Vocabulary, the Recommender only accepts Lists\n",
        "# to build the Trie\n",
        "\n",
        "vocab_file = \"vocabulary.txt\"     #Add the file path here\n",
        "\n",
        "with open(vocab_file,\"r\") as file:\n",
        "  vocabulary = file.read().split(\"\\n\")"
      ],
      "execution_count": 3,
      "outputs": []
    },
    {
      "cell_type": "code",
      "metadata": {
        "id": "AuTj1bfouYVY",
        "colab_type": "code",
        "colab": {
          "base_uri": "https://localhost:8080/",
          "height": 35
        },
        "outputId": "88250c0d-9d4b-4bed-fb3f-3290c118b0f2"
      },
      "source": [
        "print(vocabulary[:10])"
      ],
      "execution_count": 4,
      "outputs": [
        {
          "output_type": "stream",
          "text": [
            "['a', 'ability', 'able', 'about', 'above', 'accept', 'according', 'account', 'across', 'act']\n"
          ],
          "name": "stdout"
        }
      ]
    },
    {
      "cell_type": "code",
      "metadata": {
        "id": "Hhu7Ut77ua_2",
        "colab_type": "code",
        "colab": {}
      },
      "source": [
        "# Call the Build function of the TrieRecommender Class\n",
        "Recommender.build(vocabulary)"
      ],
      "execution_count": 6,
      "outputs": []
    },
    {
      "cell_type": "code",
      "metadata": {
        "id": "605X4uk_uo74",
        "colab_type": "code",
        "colab": {
          "base_uri": "https://localhost:8080/",
          "height": 1000
        },
        "outputId": "1a13e882-f3cb-4922-f517-c84d203e721f"
      },
      "source": [
        "# You can see the entire vocabulary as well using the\n",
        "# get_vocabulary method, you are required to send in\n",
        "# the root node of the Recommender\n",
        "\n",
        "root = Recommender.root\n",
        "Recommender.get_vocabulary(root)",
        "# Showing only the first 10 results\n"
      ],
      "execution_count": 7,
      "outputs": [
        {
          "output_type": "stream",
          "text": [
            "a\n",
            "ability\n",
            "able\n",
            "about\n",
            "above\n",
            "accept\n",
            "according\n",
            "account\n",
            "across\n",
            "act\n",
            "action\n"
          ],
          "name": "stdout"
        }
      ]
    },
    {
      "cell_type": "code",
      "metadata": {
        "id": "0Yd4oaU7vGHe",
        "colab_type": "code",
        "colab": {
          "base_uri": "https://localhost:8080/",
          "height": 53
        },
        "outputId": "5a6fe8cc-d101-49f8-c7cd-0e5af3f5f0fb"
      },
      "source": [
        "# You can search for a word as well\n",
        "\n",
        "word = input(\"Enter word to search -> \")\n",
        "Recommender.search(word)"
      ],
      "execution_count": 8,
      "outputs": [
        {
          "output_type": "stream",
          "text": [
            "Enter word to search -> america\n"
          ],
          "name": "stdout"
        },
        {
          "output_type": "execute_result",
          "data": {
            "application/vnd.google.colaboratory.intrinsic": {
              "type": "string"
            },
            "text/plain": [
              "'america not found'"
            ]
          },
          "metadata": {
            "tags": []
          },
          "execution_count": 8
        }
      ]
    },
    {
      "cell_type": "code",
      "metadata": {
        "id": "uN5HVis5wOEy",
        "colab_type": "code",
        "colab": {
          "base_uri": "https://localhost:8080/",
          "height": 53
        },
        "outputId": "5f864b54-fbf9-4ba5-a0cd-d61ebd887d39"
      },
      "source": [
        "word = input(\"Enter word to search -> \")\n",
        "Recommender.search(word)"
      ],
      "execution_count": 9,
      "outputs": [
        {
          "output_type": "stream",
          "text": [
            "Enter word to search -> because\n"
          ],
          "name": "stdout"
        },
        {
          "output_type": "execute_result",
          "data": {
            "application/vnd.google.colaboratory.intrinsic": {
              "type": "string"
            },
            "text/plain": [
              "'because found'"
            ]
          },
          "metadata": {
            "tags": []
          },
          "execution_count": 9
        }
      ]
    },
    {
      "cell_type": "code",
      "metadata": {
        "id": "bbmYRVQ6waeh",
        "colab_type": "code",
        "colab": {
          "base_uri": "https://localhost:8080/",
          "height": 52
        },
        "outputId": "0523393c-e6c7-4915-84be-1cde3a3d7905"
      },
      "source": [
        "# Use the Autocomplete method to get suggestions\n",
        "# The Autocomplete method returns a list\n",
        "\n",
        "query = input(\"Enter the query word -> \")\n",
        "suggestions = Recommender.autocomplete(query)\n",
        "print(\"Possible Sugesstions are {}\".format(suggestions))"
      ],
      "execution_count": 12,
      "outputs": [
        {
          "output_type": "stream",
          "text": [
            "Enter the query word -> cam\n",
            "Possible Sugesstions are ['camera', 'campaign']\n"
          ],
          "name": "stdout"
        }
      ]
    }
  ]
}
