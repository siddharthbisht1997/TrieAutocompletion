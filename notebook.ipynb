{
  "nbformat": 4,
  "nbformat_minor": 0,
  "metadata": {
    "colab": {
      "name": "Word Recommendation using Tries.ipynb",
      "provenance": [],
      "collapsed_sections": [],
      "authorship_tag": "ABX9TyP3TGoFBuQecI/m0JHKL+Ra",
      "include_colab_link": true
    },
    "kernelspec": {
      "name": "python3",
      "display_name": "Python 3"
    }
  },
  "cells": [
    {
      "cell_type": "markdown",
      "metadata": {
        "id": "view-in-github",
        "colab_type": "text"
      },
      "source": [
        "<a href=\"https://colab.research.google.com/github/siddharthbisht1997/Word-Recommendation-using-tries/blob/master/notebook.ipynb\" target=\"_parent\"><img src=\"https://colab.research.google.com/assets/colab-badge.svg\" alt=\"Open In Colab\"/></a>"
      ]
    },
    {
      "cell_type": "code",
      "metadata": {
        "id": "jUuFhU4AU7TD",
        "colab_type": "code",
        "colab": {}
      },
      "source": [
        "from collections import defaultdict"
      ],
      "execution_count": 1,
      "outputs": []
    },
    {
      "cell_type": "code",
      "metadata": {
        "id": "ZuvsBY-oROMc",
        "colab_type": "code",
        "colab": {}
      },
      "source": [
        "class node():\n",
        "\n",
        "  def __init__(self):\n",
        "    self.children = defaultdict(None)\n",
        "    self.is_leaf : bool = False"
      ],
      "execution_count": 2,
      "outputs": []
    },
    {
      "cell_type": "code",
      "metadata": {
        "id": "_PumuvszRngW",
        "colab_type": "code",
        "colab": {}
      },
      "source": [
        "class trie():\n",
        "\n",
        "  def __init__(self):\n",
        "    self.root = node()\n",
        "  \n",
        "  def build(self,dictionary:list):\n",
        "    for item in dictionary:\n",
        "      self.insert(item)\n",
        "  \n",
        "  def insert(self,word:str):\n",
        "    ptr = self.root\n",
        "    for letter in word:\n",
        "      if letter not in ptr.children:\n",
        "        ptr.children[letter] = node()\n",
        "        ptr = ptr.children[letter]\n",
        "      elif letter in ptr.children:\n",
        "        ptr = ptr.children[letter]\n",
        "    ptr.children[word] = node()\n",
        "    ptr.is_leaf = True\n",
        "    ptr = ptr.children[word]\n",
        "    \n",
        "\n",
        "  def search(self,word):\n",
        "    ptr = self.root\n",
        "    for letter in word:\n",
        "      if letter in ptr.children:\n",
        "        ptr = ptr.children[letter]\n",
        "      else:\n",
        "        return word + \" Not Found\"\n",
        "    if ptr.is_leaf == True:\n",
        "      return word + \" Found\"\n",
        "    else:\n",
        "      return word + \" Not Found\"\n",
        " \n",
        "  def recommend(self,word):\n",
        "    pass\n",
        "\n",
        "  def print_dictionary(self,root):\n",
        "    for child in root.children:\n",
        "      if not root.is_leaf:\n",
        "        self.print_dictionary(root.children[child])\n",
        "      else:\n",
        "        print(child)"
      ],
      "execution_count": 5,
      "outputs": []
    },
    {
      "cell_type": "code",
      "metadata": {
        "id": "RsM4R9aJTZrf",
        "colab_type": "code",
        "colab": {
          "base_uri": "https://localhost:8080/",
          "height": 87
        },
        "outputId": "65646677-3670-42f6-cf40-2c1506742e3a"
      },
      "source": [
        "r = trie()\n",
        "\n",
        "words = [\"hello\",\"how\",\"are\",'armadiloo']\n",
        "\n",
        "r.build(words)\n",
        "r.print_dictionary(r.root)"
      ],
      "execution_count": 6,
      "outputs": [
        {
          "output_type": "stream",
          "text": [
            "hello\n",
            "how\n",
            "are\n",
            "armadiloo\n"
          ],
          "name": "stdout"
        }
      ]
    },
    {
      "cell_type": "code",
      "metadata": {
        "id": "FUa8A9KnVv-I",
        "colab_type": "code",
        "colab": {
          "base_uri": "https://localhost:8080/",
          "height": 35
        },
        "outputId": "ffdb8572-ca23-4fc8-d012-e63996c1a0c7"
      },
      "source": [
        "r.search(\"hello\")"
      ],
      "execution_count": 7,
      "outputs": [
        {
          "output_type": "execute_result",
          "data": {
            "application/vnd.google.colaboratory.intrinsic": {
              "type": "string"
            },
            "text/plain": [
              "'hello Found'"
            ]
          },
          "metadata": {
            "tags": []
          },
          "execution_count": 7
        }
      ]
    }
  ]
}